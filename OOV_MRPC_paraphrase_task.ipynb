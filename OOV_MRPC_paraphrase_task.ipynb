{
  "cells": [
    {
      "cell_type": "markdown",
      "metadata": {
        "id": "view-in-github",
        "colab_type": "text"
      },
      "source": [
        "<a href=\"https://colab.research.google.com/github/ua-datalab/QNLP/blob/main/OOV_MRPC_paraphrase_task.ipynb\" target=\"_parent\"><img src=\"https://colab.research.google.com/assets/colab-badge.svg\" alt=\"Open In Colab\"/></a>"
      ]
    },
    {
      "cell_type": "code",
      "execution_count": null,
      "id": "f8d883e1",
      "metadata": {
        "id": "f8d883e1"
      },
      "outputs": [],
      "source": [
        "import os\n",
        "os.environ[\"CUDA_VISIBLE_DEVICES\"] = \"-1\""
      ]
    },
    {
      "cell_type": "code",
      "execution_count": null,
      "id": "b5a96723",
      "metadata": {
        "id": "b5a96723"
      },
      "outputs": [],
      "source": [
        "MAXPARAMS = 108"
      ]
    },
    {
      "cell_type": "code",
      "execution_count": null,
      "id": "fdf7d61b",
      "metadata": {
        "id": "fdf7d61b",
        "outputId": "57b79b92-509a-4af9-91a0-67a6a25000d4"
      },
      "outputs": [
        {
          "name": "stderr",
          "output_type": "stream",
          "text": [
            "2023-03-22 15:37:23.182362: I tensorflow/core/util/util.cc:169] oneDNN custom operations are on. You may see slightly different numerical results due to floating-point round-off errors from different computation orders. To turn them off, set the environment variable `TF_ENABLE_ONEDNN_OPTS=0`.\n"
          ]
        }
      ],
      "source": [
        "import numpy as np\n",
        "\n",
        "from tensorflow import keras\n",
        "from tensorflow.keras import layers\n",
        "\n",
        "import matplotlib.pyplot as plt\n",
        "\n",
        "loss = lambda y_hat, y: -np.sum(y * np.log(y_hat)) / len(y)  # binary cross-entropy loss\n",
        "acc = lambda y_hat, y: np.sum(np.round(y_hat) == y) / len(y) / 2  # half due to double-counting\n",
        "\n",
        "eval_metrics = {\"acc\": acc}\n",
        "\n",
        "def generate_initial_parameterisation(train_circuits, test_circuits, embedding_model, qnlp_model):\n",
        "\n",
        "    # Note that in this vocab, the same word can have multiple types, which each occur separately\n",
        "    train_vocab = {symb.name.rsplit('_', 1)[0] for d in train_circuits for symb in d.free_symbols}\n",
        "    test_vocab = {symb.name.rsplit('_', 1)[0] for d in test_circuits for symb in d.free_symbols}\n",
        "\n",
        "    print(len(test_vocab.union(train_vocab)), len(train_vocab), len(test_vocab))\n",
        "    print(f'OOV word count: {len(test_vocab - train_vocab)} / {len(test_vocab)}')\n",
        "\n",
        "    n_oov_symbs = len({symb.name for d in test_circuits for symb in d.free_symbols} - {symb.name for d in train_circuits for symb in d.free_symbols})\n",
        "    print(f'OOV symbol count: {n_oov_symbs} / {len({symb.name for d in test_circuits for symb in d.free_symbols})}')\n",
        "\n",
        "    max_word_param_length = max(max(int(symb.name.rsplit('_', 1)[1]) for d in train_circuits for symb in d.free_symbols),\n",
        "                            max(int(symb.name.rsplit('_', 1)[1]) for d in test_circuits for symb in d.free_symbols)) + 1\n",
        "    print(f'Max params/word: {max_word_param_length}')\n",
        "\n",
        "    train_vocab_embeddings = {wrd: embedding_model[wrd.split('__')[0]] for wrd in train_vocab}\n",
        "    test_vocab_embeddings = {wrd: embedding_model[wrd.split('__')[0]] for wrd in test_vocab}\n",
        "\n",
        "    initial_param_vector = []\n",
        "\n",
        "    for sym in qnlp_model.symbols:\n",
        "        wrd, idx = sym.name.rsplit('_', 1)\n",
        "        initial_param_vector.append(train_vocab_embeddings[wrd][int(idx)])\n",
        "\n",
        "    qnlp_model.weights = np.array(initial_param_vector)\n",
        "\n",
        "    return train_vocab_embeddings, test_vocab_embeddings, max_word_param_length\n",
        "\n",
        "\n",
        "def generate_OOV_parameterising_model(trained_qnlp_model, train_vocab_embeddings, max_word_param_length):\n",
        "\n",
        "    trained_params_raw = {symbol: param for symbol, param in zip(trained_qnlp_model.symbols, trained_qnlp_model.weights)}\n",
        "    trained_param_vectors = {wrd: np.zeros(max_word_param_length) for wrd in train_vocab_embeddings}\n",
        "\n",
        "    for symbol, train_val in trained_params_raw.items():\n",
        "        wrd, idx = symbol.name.rsplit('_', 1)\n",
        "        trained_param_vectors[wrd][int(idx)] = train_val\n",
        "\n",
        "    wrds_in_order = list(train_vocab_embeddings.keys())\n",
        "\n",
        "    NN_train_X = np.array([train_vocab_embeddings[wrd] for wrd in wrds_in_order])\n",
        "    NN_train_Y = np.array([trained_param_vectors[wrd] for wrd in wrds_in_order])\n",
        "\n",
        "    print(NN_train_X[0][:5])\n",
        "    print(NN_train_Y[0][:5])\n",
        "\n",
        "    OOV_NN_model = keras.Sequential([\n",
        "      layers.Dense(int((max_word_param_length + MAXPARAMS) / 2), activation='tanh'),\n",
        "      layers.Dense(max_word_param_length, activation='tanh'),\n",
        "    ])\n",
        "\n",
        "    OOV_NN_model.compile(loss='mean_absolute_error', optimizer=keras.optimizers.Adam(0.001))\n",
        "\n",
        "    # Embedding dim!\n",
        "    OOV_NN_model.build(input_shape=(None, MAXPARAMS))\n",
        "\n",
        "    hist = OOV_NN_model.fit(NN_train_X, NN_train_Y, validation_split=0.2, verbose=0, epochs=120)\n",
        "\n",
        "    print(f'OOV NN model final epoch loss: {(hist.history[\"loss\"][-1], hist.history[\"val_loss\"][-1])}')\n",
        "\n",
        "    plt.plot(hist.history['loss'], label='loss')\n",
        "    plt.plot(hist.history['val_loss'], label='val_loss')\n",
        "    plt.xlabel('Epoch')\n",
        "    plt.ylabel('Error')\n",
        "    plt.legend()\n",
        "    plt.show()\n",
        "\n",
        "    return OOV_NN_model\n",
        "\n",
        "\n",
        "def evaluate_test_set(pred_model, test_circuits, test_labels, trained_params, test_vocab_embeddings, max_word_param_length, OOV_strategy='random', OOV_model=None):\n",
        "\n",
        "    pred_parameter_map = {}\n",
        "\n",
        "    # Use the words from train wherever possible, else use DNN prediction\n",
        "    for wrd, embedding in test_vocab_embeddings.items():\n",
        "        if OOV_strategy == 'model':\n",
        "            pred_parameter_map[wrd] = trained_params.get(wrd, OOV_model.predict(np.array([embedding]), verbose=0)[0])\n",
        "        elif OOV_strategy == 'embed':\n",
        "            pred_parameter_map[wrd] = trained_params.get(wrd, embedding)\n",
        "        elif OOV_strategy == 'zeros':\n",
        "            pred_parameter_map[wrd] = trained_params.get(wrd, np.zeros(max_word_param_length))\n",
        "        else:\n",
        "            pred_parameter_map[wrd] = trained_params.get(wrd, 2 * np.random.rand(max_word_param_length)-1)\n",
        "\n",
        "    pred_weight_vector = []\n",
        "\n",
        "    for sym in pred_model.symbols:\n",
        "        wrd, idx = sym.name.rsplit('_', 1)\n",
        "        pred_weight_vector.append(pred_parameter_map[wrd][int(idx)])\n",
        "\n",
        "    pred_model.weights = pred_weight_vector\n",
        "\n",
        "    preds = pred_model.get_diagram_output(test_circuits)\n",
        "\n",
        "    return loss(preds, test_labels), acc(preds, test_labels)\n",
        "\n",
        "\n",
        "def trained_params_from_model(trained_qnlp_model, train_embeddings, max_word_param_length):\n",
        "\n",
        "    trained_param_map = { symbol: param for symbol, param in zip(trained_qnlp_model.symbols, trained_qnlp_model.weights)}\n",
        "    trained_parameterisation_map = {wrd: np.zeros(max_word_param_length) for wrd in train_embeddings}\n",
        "\n",
        "    for symbol, train_val in trained_param_map.items():\n",
        "        wrd, idx = symbol.name.rsplit('_', 1)\n",
        "        trained_parameterisation_map[wrd][int(idx)] = train_val\n",
        "\n",
        "    return trained_parameterisation_map"
      ]
    },
    {
      "cell_type": "code",
      "execution_count": null,
      "id": "69b2ff1d",
      "metadata": {
        "id": "69b2ff1d",
        "outputId": "19f8b5e5-82fd-41dc-9291-e7b0ce8d4602"
      },
      "outputs": [
        {
          "name": "stdout",
          "output_type": "stream",
          "text": [
            "61 32\n"
          ]
        }
      ],
      "source": [
        "import string\n",
        "\n",
        "train_X_1 = []\n",
        "train_X_2 = []\n",
        "train_y = []\n",
        "\n",
        "with open(\"dataset/msr_paraphrase_train.txt\", encoding='utf-8-sig') as f:\n",
        "    for line in f:\n",
        "        procd_line = line.strip().split('\\t')\n",
        "        train_X_1.append(procd_line[3])\n",
        "        train_X_2.append(procd_line[4])\n",
        "        train_y.append(int(procd_line[0]))\n",
        "\n",
        "\n",
        "\n",
        "test_X_1 = []\n",
        "test_X_2 = []\n",
        "test_y = []\n",
        "\n",
        "\n",
        "with open(\"dataset/msr_paraphrase_test.txt\", encoding='utf-8-sig') as f:\n",
        "    for line in f:\n",
        "        procd_line = line.strip().split('\\t')\n",
        "        test_X_1.append(procd_line[3])\n",
        "        test_X_2.append(procd_line[4])\n",
        "        test_y.append(int(procd_line[0]))\n",
        "\n",
        "\n",
        "MAXLEN = 10\n",
        "\n",
        "\n",
        "filt_train_X1 = []\n",
        "filt_train_X2 = []\n",
        "filt_train_y = []\n",
        "\n",
        "filt_test_X1 = []\n",
        "filt_test_X2 = []\n",
        "filt_test_y = []\n",
        "\n",
        "ctr_train = 0\n",
        "for label, s1, s2 in zip(train_y, train_X_1, train_X_2):\n",
        "    if max((len(s1.split(' ')), len(s2.split(' ')))) <= MAXLEN:\n",
        "        ctr_train += 1\n",
        "        filt_train_X1.append(s1.translate(str.maketrans('', '', string.punctuation)))\n",
        "        filt_train_X2.append(s2.translate(str.maketrans('', '', string.punctuation)))\n",
        "        this_y = [0, 0]\n",
        "        this_y[label] = 1\n",
        "        filt_train_y.append(this_y)\n",
        "\n",
        "ctr_test = 0\n",
        "for label, s1, s2 in zip(test_y, test_X_1, test_X_2):\n",
        "    if max((len(s1.split(' ')), len(s2.split(' ')))) <= MAXLEN:\n",
        "        ctr_test += 1\n",
        "        filt_test_X1.append(s1.translate(str.maketrans('', '', string.punctuation)))\n",
        "        filt_test_X2.append(s2.translate(str.maketrans('', '', string.punctuation)))\n",
        "        this_y = [0, 0]\n",
        "        this_y[label] = 1\n",
        "        filt_test_y.append(this_y)\n",
        "\n",
        "print(ctr_train, ctr_test)"
      ]
    },
    {
      "cell_type": "code",
      "execution_count": null,
      "id": "2c2ed1d3",
      "metadata": {
        "id": "2c2ed1d3"
      },
      "outputs": [],
      "source": [
        "import fasttext as ft\n",
        "\n",
        "embedding_model = ft.load_model(f'./dataset/cc.en.{MAXPARAMS}.bin')"
      ]
    },
    {
      "cell_type": "code",
      "execution_count": null,
      "id": "877d080a",
      "metadata": {
        "id": "877d080a"
      },
      "outputs": [],
      "source": [
        "from lambeq import DepCCGParser\n",
        "\n",
        "parser = DepCCGParser()"
      ]
    },
    {
      "cell_type": "code",
      "execution_count": null,
      "id": "4489dd44",
      "metadata": {
        "id": "4489dd44",
        "outputId": "d9b369d6-b465-4aa4-849a-84549a026463",
        "colab": {
          "referenced_widgets": [
            ""
          ]
        }
      },
      "outputs": [
        {
          "name": "stderr",
          "output_type": "stream",
          "text": [
            "# 0 :   0%|                                                                                                                                                                        | 0/31 [00:00<?, ?it/s]\n",
            "# 0 :  29%|██████████████████████████████████████████████▍                                                                                                                 | 9/31 [00:00<00:00, 68.29it/s]\u001b[A\n",
            "# 1 : 100%|██████████████████████████████████████████████████████████████████████████████████████████████████████████████████████████████████████████████████████████████| 30/30 [00:00<00:00, 159.91it/s]\u001b[A\n",
            "# 0 : 100%|███████████████████████████████████████████████████████████████████████████████████████████████████████████████████████████████████████████████████████████████| 31/31 [00:00<00:00, 46.56it/s]\n"
          ]
        },
        {
          "data": {
            "application/vnd.jupyter.widget-view+json": {
              "model_id": "",
              "version_major": 2,
              "version_minor": 0
            },
            "text/plain": [
              "Parse trees to diagrams:   0%|          | 0/61 [00:00<?, ?it/s]"
            ]
          },
          "metadata": {},
          "output_type": "display_data"
        },
        {
          "name": "stderr",
          "output_type": "stream",
          "text": [
            "# 0 :   0%|                                                                                                                                                                        | 0/31 [00:00<?, ?it/s]\n",
            "# 0 :  45%|███████████████████████████████████████████████████████████████████████▊                                                                                       | 14/31 [00:00<00:00, 40.44it/s]\u001b[A\n",
            "# 1 :   7%|██████████▋                                                                                                                                                     | 2/30 [00:00<00:04,  6.27it/s]\u001b[A\n",
            "# 1 : 100%|███████████████████████████████████████████████████████████████████████████████████████████████████████████████████████████████████████████████████████████████| 30/30 [00:00<00:00, 63.31it/s]\u001b[A\n",
            "# 0 : 100%|███████████████████████████████████████████████████████████████████████████████████████████████████████████████████████████████████████████████████████████████| 31/31 [00:00<00:00, 51.21it/s]\n"
          ]
        },
        {
          "data": {
            "application/vnd.jupyter.widget-view+json": {
              "model_id": "",
              "version_major": 2,
              "version_minor": 0
            },
            "text/plain": [
              "Parse trees to diagrams:   0%|          | 0/61 [00:00<?, ?it/s]"
            ]
          },
          "metadata": {},
          "output_type": "display_data"
        },
        {
          "name": "stderr",
          "output_type": "stream",
          "text": [
            "# 0 :   0%|                                                                                                                                                                        | 0/16 [00:00<?, ?it/s]\n",
            "# 1 :   0%|                                                                                                                                                                        | 0/16 [00:00<?, ?it/s]\u001b[A\n",
            "# 1 : 100%|███████████████████████████████████████████████████████████████████████████████████████████████████████████████████████████████████████████████████████████████| 16/16 [00:00<00:00, 45.20it/s]\u001b[A\n",
            "# 0 : 100%|███████████████████████████████████████████████████████████████████████████████████████████████████████████████████████████████████████████████████████████████| 16/16 [00:00<00:00, 22.04it/s]\n"
          ]
        },
        {
          "data": {
            "application/vnd.jupyter.widget-view+json": {
              "model_id": "",
              "version_major": 2,
              "version_minor": 0
            },
            "text/plain": [
              "Parse trees to diagrams:   0%|          | 0/32 [00:00<?, ?it/s]"
            ]
          },
          "metadata": {},
          "output_type": "display_data"
        },
        {
          "name": "stderr",
          "output_type": "stream",
          "text": [
            "# 0 :   0%|                                                                                                                                                                        | 0/16 [00:00<?, ?it/s]\n",
            "# 0 : 100%|███████████████████████████████████████████████████████████████████████████████████████████████████████████████████████████████████████████████████████████████| 16/16 [00:00<00:00, 95.39it/s]\u001b[A\n",
            "\n",
            "# 1 :  12%|████████████████████                                                                                                                                            | 2/16 [00:00<00:06,  2.19it/s]\u001b[A\n",
            "# 1 : 100%|███████████████████████████████████████████████████████████████████████████████████████████████████████████████████████████████████████████████████████████████| 16/16 [00:01<00:00, 14.23it/s]\u001b[A\n"
          ]
        },
        {
          "data": {
            "application/vnd.jupyter.widget-view+json": {
              "model_id": "",
              "version_major": 2,
              "version_minor": 0
            },
            "text/plain": [
              "Parse trees to diagrams:   0%|          | 0/32 [00:00<?, ?it/s]"
            ]
          },
          "metadata": {},
          "output_type": "display_data"
        }
      ],
      "source": [
        "train_diags1 = parser.sentences2diagrams(filt_train_X1, suppress_exceptions=False)\n",
        "train_diags2 = parser.sentences2diagrams(filt_train_X2, suppress_exceptions=False)\n",
        "\n",
        "test_diags1 = parser.sentences2diagrams(filt_test_X1, suppress_exceptions=False)\n",
        "test_diags2 = parser.sentences2diagrams(filt_test_X2, suppress_exceptions=False)"
      ]
    },
    {
      "cell_type": "code",
      "execution_count": null,
      "id": "0be9c058",
      "metadata": {
        "id": "0be9c058",
        "outputId": "88905b81-8dd5-47c1-b569-691d2ddc8cd6"
      },
      "outputs": [
        {
          "name": "stdout",
          "output_type": "stream",
          "text": [
            "FINAL DATASET SIZE:\n",
            "-----------------------------------\n",
            "Training: 60 Counter({(0, 1): 37, (1, 0): 23})\n",
            "Testing : 31 Counter({(0, 1): 17, (1, 0): 14})\n"
          ]
        }
      ],
      "source": [
        "from collections import Counter\n",
        "# We omit any case where the 2 phrases are not parsed to the same type\n",
        "joint_diagrams_train = [d1 @ d2.r if d1.cod == d2.cod else None for (d1, d2) in zip(train_diags1, train_diags2)]\n",
        "joint_diagrams_test = [d1 @ d2.r if d1.cod == d2.cod else None for (d1, d2) in zip(test_diags1, test_diags2)]\n",
        "\n",
        "\n",
        "train_diags_raw = [d for d in joint_diagrams_train if d is not None]\n",
        "train_y = np.array([y for d,y in zip(joint_diagrams_train, filt_train_y) if d is not None])\n",
        "\n",
        "test_diags_raw = [d for d in joint_diagrams_test if d is not None]\n",
        "test_y = np.array([y for d,y in zip(joint_diagrams_test, filt_test_y) if d is not None])\n",
        "\n",
        "print(\"FINAL DATASET SIZE:\")\n",
        "print(\"-----------------------------------\")\n",
        "print(f\"Training: {len(train_diags_raw)} {Counter([tuple(elem) for elem in train_y])}\")\n",
        "print(f\"Testing : {len(test_diags_raw)} {Counter([tuple(elem) for elem in test_y])}\")"
      ]
    },
    {
      "cell_type": "code",
      "execution_count": null,
      "id": "439fbd92",
      "metadata": {
        "id": "439fbd92",
        "outputId": "e39adc58-b6b6-4056-e11f-5eab8507c76e"
      },
      "outputs": [
        {
          "name": "stderr",
          "output_type": "stream",
          "text": [
            "100%|█████████████████████████████████████████████████████████████████████████████████████████████████████████████████████████████████████████████████████████████████████| 60/60 [00:19<00:00,  3.09it/s]\n",
            "100%|█████████████████████████████████████████████████████████████████████████████████████████████████████████████████████████████████████████████████████████████████████| 31/31 [00:10<00:00,  3.07it/s]\n"
          ]
        }
      ],
      "source": [
        "from tqdm import tqdm\n",
        "from lambeq import Rewriter, remove_cups\n",
        "\n",
        "rewriter = Rewriter(['prepositional_phrase', 'determiner', 'coordination', 'connector', 'prepositional_phrase'])\n",
        "\n",
        "train_X = []\n",
        "test_X = []\n",
        "\n",
        "for d in tqdm(train_diags_raw):\n",
        "    train_X.append(remove_cups(rewriter(d).normal_form()))\n",
        "\n",
        "for d in tqdm(test_diags_raw):\n",
        "    test_X.append(remove_cups(rewriter(d).normal_form()))"
      ]
    },
    {
      "cell_type": "code",
      "execution_count": null,
      "id": "75d079fb",
      "metadata": {
        "id": "75d079fb",
        "outputId": "d0b5d988-783a-4c07-fe44-96270d574805"
      },
      "outputs": [
        {
          "data": {
            "image/png": "[encoded data removed]",
            "text/plain": [
              "<Figure size 432x288 with 1 Axes>"
            ]
          },
          "metadata": {},
          "output_type": "display_data"
        }
      ],
      "source": [
        "from discopy.quantum.gates import CX, Rx, H, Bra, Id\n",
        "\n",
        "equality_comparator = (CX >> (H @ Rx(0.5)) >> (Bra(0) @ Id(1)))\n",
        "equality_comparator.draw()"
      ]
    },
    {
      "cell_type": "code",
      "execution_count": null,
      "id": "b80b7410",
      "metadata": {
        "id": "b80b7410"
      },
      "outputs": [],
      "source": [
        "from lambeq import AtomicType, IQPAnsatz, Sim14Ansatz, Sim15Ansatz\n",
        "from lambeq import TketModel, NumpyModel, QuantumTrainer, SPSAOptimizer, Dataset\n",
        "import time\n",
        "import json\n",
        "\n",
        "SEED = 0\n",
        "EPOCHS = 1000\n",
        "BATCH_SIZE = 30\n",
        "\n",
        "N = AtomicType.NOUN\n",
        "S = AtomicType.SENTENCE\n",
        "P = AtomicType.PREPOSITIONAL_PHRASE\n",
        "\n",
        "\n",
        "def run_experiment(nlayers=1, seed=SEED):\n",
        "    print(f'RUNNING WITH {nlayers} layers')\n",
        "    ansatz = Sim15Ansatz({N: 1, S: 1, P:1}, n_layers=nlayers, n_single_qubit_params=3)\n",
        "\n",
        "    train_circs = [ansatz(d) >> equality_comparator for d in train_X]\n",
        "    test_circs = [ansatz(d) >> equality_comparator for d in test_X]\n",
        "\n",
        "    lmbq_model = NumpyModel.from_diagrams(train_circs, use_jit=True)\n",
        "\n",
        "    trainer = QuantumTrainer(\n",
        "        lmbq_model,\n",
        "        loss_function=loss,\n",
        "        epochs=EPOCHS,\n",
        "        optimizer=SPSAOptimizer,\n",
        "        optim_hyperparams={'a': 0.05, 'c': 0.06, 'A':0.01*EPOCHS},\n",
        "        evaluate_functions=eval_metrics,\n",
        "        evaluate_on_train=True,\n",
        "        verbose = 'text',\n",
        "        seed=seed\n",
        "    )\n",
        "\n",
        "    train_dataset = Dataset(\n",
        "                train_circs,\n",
        "                train_y,\n",
        "                batch_size=BATCH_SIZE)\n",
        "\n",
        "    np.random.seed(seed)\n",
        "\n",
        "    train_embeddings, test_embeddings, max_w_param_length = generate_initial_parameterisation(train_circs, test_circs, embedding_model, lmbq_model)\n",
        "\n",
        "    print('BEGINNING QNLP MODEL TRAINING')\n",
        "    trainer.fit(train_dataset, logging_step=100)\n",
        "\n",
        "    train_preds = lmbq_model.get_diagram_output(train_circs)\n",
        "    train_loss = loss(train_preds, train_y)\n",
        "    train_acc = acc(train_preds, train_y)\n",
        "    print(f'TRAIN STATS: {train_loss, train_acc}')\n",
        "\n",
        "    print('BEGINNING DNN MODEL TRAINING')\n",
        "    NN_model = generate_OOV_parameterising_model(lmbq_model, train_embeddings, max_w_param_length)\n",
        "\n",
        "    prediction_model = NumpyModel.from_diagrams(test_circs, use_jit=True)\n",
        "\n",
        "    trained_wts = trained_params_from_model(lmbq_model, train_embeddings, max_w_param_length)\n",
        "\n",
        "    print('Evaluating SMART MODEL')\n",
        "    smart_loss, smart_acc = evaluate_test_set(prediction_model,\n",
        "                                              test_circs,\n",
        "                                              test_y,\n",
        "                                              trained_wts,\n",
        "                                              test_embeddings,\n",
        "                                              max_w_param_length,\n",
        "                                              OOV_strategy='model',\n",
        "                                              OOV_model=NN_model)\n",
        "\n",
        "    print('Evaluating EMBED model')\n",
        "    embed_loss, embed_acc = evaluate_test_set(prediction_model,\n",
        "                                              test_circs,\n",
        "                                              test_y,\n",
        "                                              trained_wts,\n",
        "                                              test_embeddings,\n",
        "                                              max_w_param_length,\n",
        "                                              OOV_strategy='embed')\n",
        "\n",
        "    print('Evaluating ZEROS model')\n",
        "    zero_loss, zero_acc = evaluate_test_set(prediction_model,\n",
        "                                              test_circs,\n",
        "                                              test_y,\n",
        "                                              trained_wts,\n",
        "                                              test_embeddings,\n",
        "                                              max_w_param_length,\n",
        "                                              OOV_strategy='zeros')\n",
        "\n",
        "    rand_losses = []\n",
        "    rand_accs = []\n",
        "\n",
        "    print('Evaluating RAND MODEL')\n",
        "    for _ in range(1000):\n",
        "\n",
        "\n",
        "        rl, ra = evaluate_test_set(prediction_model,\n",
        "                                   test_circs,\n",
        "                                   test_y,\n",
        "                                   trained_wts,\n",
        "                                   test_embeddings,\n",
        "                                   max_w_param_length,\n",
        "                                   OOV_strategy='random')\n",
        "\n",
        "        rand_losses.append(rl)\n",
        "        rand_accs.append(ra)\n",
        "\n",
        "    res =  {'TRAIN': (train_loss, train_acc),\n",
        "            'NN': (smart_loss, smart_acc),\n",
        "            'EMBED': (embed_loss, embed_acc),\n",
        "            'RAND': (rand_losses, rand_accs),\n",
        "            'ZERO': (zero_loss, zero_acc)\n",
        "           }\n",
        "    print(f'ZERO: {res[\"ZERO\"]}')\n",
        "    print(f'EMBED: {res[\"EMBED\"]}')\n",
        "    print(f'NN: {res[\"NN\"]}')\n",
        "\n",
        "    return res\n"
      ]
    },
    {
      "cell_type": "code",
      "execution_count": null,
      "id": "dd7385e7",
      "metadata": {
        "scrolled": true,
        "id": "dd7385e7",
        "outputId": "b7404889-7326-4e1c-93fa-9a16a854c4a0"
      },
      "outputs": [
        {
          "name": "stdout",
          "output_type": "stream",
          "text": [
            "RUNNING WITH 3 layers\n",
            "882 591 377\n",
            "OOV word count: 291 / 377\n",
            "OOV symbol count: 3183 / 4338\n",
            "Max params/word: 54\n",
            "BEGINNING QNLP MODEL TRAINING\n"
          ]
        },
        {
          "name": "stderr",
          "output_type": "stream",
          "text": [
            "Epoch 1:     train/loss: 0.9772   valid/loss: -----   train/acc: 0.5167   valid/acc: -----\n",
            "Epoch 100:   train/loss: 0.7960   valid/loss: -----   train/acc: 0.6667   valid/acc: -----\n",
            "Epoch 200:   train/loss: 0.7481   valid/loss: -----   train/acc: 0.6500   valid/acc: -----\n",
            "Epoch 300:   train/loss: 0.6598   valid/loss: -----   train/acc: 0.7000   valid/acc: -----\n",
            "Epoch 400:   train/loss: 0.7139   valid/loss: -----   train/acc: 0.5500   valid/acc: -----\n",
            "Epoch 500:   train/loss: 0.6611   valid/loss: -----   train/acc: 0.6833   valid/acc: -----\n",
            "Epoch 600:   train/loss: 0.6949   valid/loss: -----   train/acc: 0.6333   valid/acc: -----\n",
            "Epoch 700:   train/loss: 0.6310   valid/loss: -----   train/acc: 0.6833   valid/acc: -----\n",
            "Epoch 800:   train/loss: 0.5563   valid/loss: -----   train/acc: 0.7000   valid/acc: -----\n",
            "Epoch 900:   train/loss: 0.5502   valid/loss: -----   train/acc: 0.6833   valid/acc: -----\n",
            "Epoch 1000:  train/loss: 0.5934   valid/loss: -----   train/acc: 0.7500   valid/acc: -----\n",
            "\n",
            "Training completed!\n"
          ]
        },
        {
          "name": "stdout",
          "output_type": "stream",
          "text": [
            "TRAIN STATS: (0.3374997998781813, DeviceArray(0.8833333, dtype=float32))\n",
            "BEGINNING DNN MODEL TRAINING\n",
            "[-0.01694969  0.07588653 -0.01615061  0.01447961  0.02373532]\n",
            "[-0.03489554  0.01386689 -0.10999884 -0.013063   -0.1504512 ]\n"
          ]
        },
        {
          "name": "stderr",
          "output_type": "stream",
          "text": [
            "2023-03-22 16:17:19.668034: E tensorflow/stream_executor/cuda/cuda_driver.cc:271] failed call to cuInit: CUDA_ERROR_NO_DEVICE: no CUDA-capable device is detected\n",
            "2023-03-22 16:17:19.668086: I tensorflow/stream_executor/cuda/cuda_diagnostics.cc:169] retrieving CUDA diagnostic information for host: duvel3\n",
            "2023-03-22 16:17:19.668091: I tensorflow/stream_executor/cuda/cuda_diagnostics.cc:176] hostname: duvel3\n",
            "2023-03-22 16:17:19.668252: I tensorflow/stream_executor/cuda/cuda_diagnostics.cc:200] libcuda reported version is: 520.61.5\n",
            "2023-03-22 16:17:19.668276: I tensorflow/stream_executor/cuda/cuda_diagnostics.cc:204] kernel reported version is: 520.61.5\n",
            "2023-03-22 16:17:19.668280: I tensorflow/stream_executor/cuda/cuda_diagnostics.cc:310] kernel version seems to match DSO: 520.61.5\n",
            "2023-03-22 16:17:19.669578: I tensorflow/core/platform/cpu_feature_guard.cc:193] This TensorFlow binary is optimized with oneAPI Deep Neural Network Library (oneDNN) to use the following CPU instructions in performance-critical operations:  AVX2 AVX512F AVX512_VNNI FMA\n",
            "To enable them in other operations, rebuild TensorFlow with the appropriate compiler flags.\n"
          ]
        },
        {
          "name": "stdout",
          "output_type": "stream",
          "text": [
            "OOV NN model final epoch loss: (0.026328174397349358, 0.03092249669134617)\n"
          ]
        },
        {
          "data": {
            "image/png": "[encoded data removed]",
            "text/plain": [
              "<Figure size 432x288 with 1 Axes>"
            ]
          },
          "metadata": {
            "needs_background": "light"
          },
          "output_type": "display_data"
        },
        {
          "name": "stdout",
          "output_type": "stream",
          "text": [
            "Evaluating SMART MODEL\n",
            "Evaluating EMBED model\n",
            "Evaluating ZEROS model\n",
            "Evaluating RAND MODEL\n",
            "ZERO: (3.2954275895712715, DeviceArray(0.5483871, dtype=float32))\n",
            "EMBED: (0.896520908921957, DeviceArray(0.61290324, dtype=float32))\n",
            "NN: (0.9454631694862919, DeviceArray(0.41935483, dtype=float32))\n",
            "RUNNING WITH 2 layers\n",
            "882 591 377\n",
            "OOV word count: 291 / 377\n",
            "OOV symbol count: 2223 / 3014\n",
            "Max params/word: 36\n",
            "BEGINNING QNLP MODEL TRAINING\n"
          ]
        },
        {
          "name": "stderr",
          "output_type": "stream",
          "text": [
            "Epoch 1:     train/loss: 0.8953   valid/loss: -----   train/acc: 0.5500   valid/acc: -----\n",
            "Epoch 100:   train/loss: 0.7800   valid/loss: -----   train/acc: 0.5667   valid/acc: -----\n",
            "Epoch 200:   train/loss: 0.6824   valid/loss: -----   train/acc: 0.6000   valid/acc: -----\n",
            "Epoch 300:   train/loss: 0.7280   valid/loss: -----   train/acc: 0.5500   valid/acc: -----\n",
            "Epoch 400:   train/loss: 0.5656   valid/loss: -----   train/acc: 0.6833   valid/acc: -----\n",
            "Epoch 500:   train/loss: 0.5665   valid/loss: -----   train/acc: 0.6833   valid/acc: -----\n",
            "Epoch 600:   train/loss: 0.5479   valid/loss: -----   train/acc: 0.6167   valid/acc: -----\n",
            "Epoch 700:   train/loss: 0.4744   valid/loss: -----   train/acc: 0.8000   valid/acc: -----\n",
            "Epoch 800:   train/loss: 0.4391   valid/loss: -----   train/acc: 0.7667   valid/acc: -----\n",
            "Epoch 900:   train/loss: 0.3389   valid/loss: -----   train/acc: 0.8833   valid/acc: -----\n",
            "Epoch 1000:  train/loss: 0.3672   valid/loss: -----   train/acc: 0.8500   valid/acc: -----\n",
            "\n",
            "Training completed!\n"
          ]
        },
        {
          "name": "stdout",
          "output_type": "stream",
          "text": [
            "TRAIN STATS: (0.20197224754301715, DeviceArray(0.95, dtype=float32))\n",
            "BEGINNING DNN MODEL TRAINING\n",
            "[-0.01694969  0.07588653 -0.01615061  0.01447961  0.02373532]\n",
            "[ 0.031975   -0.01256968 -0.16903348  0.16189781  0.07247581]\n",
            "OOV NN model final epoch loss: (0.02625768631696701, 0.03256409615278244)\n"
          ]
        },
        {
          "data": {
            "image/png": "[encoded data removed]",
            "text/plain": [
              "<Figure size 432x288 with 1 Axes>"
            ]
          },
          "metadata": {
            "needs_background": "light"
          },
          "output_type": "display_data"
        },
        {
          "name": "stdout",
          "output_type": "stream",
          "text": [
            "Evaluating SMART MODEL\n",
            "Evaluating EMBED model\n",
            "Evaluating ZEROS model\n",
            "Evaluating RAND MODEL\n",
            "ZERO: (3.4826200048424183, DeviceArray(0.58064514, dtype=float32))\n",
            "EMBED: (0.9953541610870631, DeviceArray(0.61290324, dtype=float32))\n",
            "NN: (0.9032434569521537, DeviceArray(0.58064514, dtype=float32))\n",
            "RUNNING WITH 1 layers\n",
            "882 591 377\n",
            "OOV word count: 291 / 377\n",
            "OOV symbol count: 1263 / 1690\n",
            "Max params/word: 18\n",
            "BEGINNING QNLP MODEL TRAINING\n"
          ]
        },
        {
          "name": "stderr",
          "output_type": "stream",
          "text": [
            "Epoch 1:     train/loss: 0.9926   valid/loss: -----   train/acc: 0.5333   valid/acc: -----\n",
            "Epoch 100:   train/loss: 0.5931   valid/loss: -----   train/acc: 0.6667   valid/acc: -----\n",
            "Epoch 200:   train/loss: 0.4345   valid/loss: -----   train/acc: 0.7500   valid/acc: -----\n",
            "Epoch 300:   train/loss: 0.3772   valid/loss: -----   train/acc: 0.8500   valid/acc: -----\n"
          ]
        },
        {
          "ename": "KeyboardInterrupt",
          "evalue": "",
          "output_type": "error",
          "traceback": [
            "\u001b[0;31m---------------------------------------------------------------------------\u001b[0m",
            "\u001b[0;31mKeyboardInterrupt\u001b[0m                         Traceback (most recent call last)",
            "Input \u001b[0;32mIn [12]\u001b[0m, in \u001b[0;36m<cell line: 6>\u001b[0;34m()\u001b[0m\n\u001b[1;32m      8\u001b[0m this_seed_results \u001b[38;5;241m=\u001b[39m []\n\u001b[1;32m      9\u001b[0m \u001b[38;5;28;01mfor\u001b[39;00m nl \u001b[38;5;129;01min\u001b[39;00m [\u001b[38;5;241m3\u001b[39m,\u001b[38;5;241m2\u001b[39m,\u001b[38;5;241m1\u001b[39m]:\n\u001b[0;32m---> 10\u001b[0m     this_seed_results\u001b[38;5;241m.\u001b[39mappend(\u001b[43mrun_experiment\u001b[49m\u001b[43m(\u001b[49m\u001b[43mnl\u001b[49m\u001b[43m,\u001b[49m\u001b[43m \u001b[49m\u001b[43mtf_seed\u001b[49m\u001b[43m)\u001b[49m)\n\u001b[1;32m     11\u001b[0m compr_results[tf_seed] \u001b[38;5;241m=\u001b[39m this_seed_results\n",
            "Input \u001b[0;32mIn [11]\u001b[0m, in \u001b[0;36mrun_experiment\u001b[0;34m(nlayers, seed)\u001b[0m\n\u001b[1;32m     43\u001b[0m train_embeddings, test_embeddings, max_w_param_length \u001b[38;5;241m=\u001b[39m generate_initial_parameterisation(train_circs, test_circs, embedding_model, lmbq_model)\n\u001b[1;32m     45\u001b[0m \u001b[38;5;28mprint\u001b[39m(\u001b[38;5;124m'\u001b[39m\u001b[38;5;124mBEGINNING QNLP MODEL TRAINING\u001b[39m\u001b[38;5;124m'\u001b[39m)\n\u001b[0;32m---> 46\u001b[0m \u001b[43mtrainer\u001b[49m\u001b[38;5;241;43m.\u001b[39;49m\u001b[43mfit\u001b[49m\u001b[43m(\u001b[49m\u001b[43mtrain_dataset\u001b[49m\u001b[43m,\u001b[49m\u001b[43m \u001b[49m\u001b[43mlogging_step\u001b[49m\u001b[38;5;241;43m=\u001b[39;49m\u001b[38;5;241;43m100\u001b[39;49m\u001b[43m)\u001b[49m\n\u001b[1;32m     48\u001b[0m train_preds \u001b[38;5;241m=\u001b[39m lmbq_model\u001b[38;5;241m.\u001b[39mget_diagram_output(train_circs)\n\u001b[1;32m     49\u001b[0m train_loss \u001b[38;5;241m=\u001b[39m loss(train_preds, train_y)\n",
            "File \u001b[0;32m~/quantinuum/repositories/lambeq/lambeq/training/quantum_trainer.py:203\u001b[0m, in \u001b[0;36mQuantumTrainer.fit\u001b[0;34m(self, train_dataset, val_dataset, evaluation_step, logging_step)\u001b[0m\n\u001b[1;32m    195\u001b[0m \u001b[38;5;28;01mdef\u001b[39;00m \u001b[38;5;21mfit\u001b[39m(\u001b[38;5;28mself\u001b[39m,\n\u001b[1;32m    196\u001b[0m         train_dataset: Dataset,\n\u001b[1;32m    197\u001b[0m         val_dataset: Optional[Dataset] \u001b[38;5;241m=\u001b[39m \u001b[38;5;28;01mNone\u001b[39;00m,\n\u001b[1;32m    198\u001b[0m         evaluation_step: \u001b[38;5;28mint\u001b[39m \u001b[38;5;241m=\u001b[39m \u001b[38;5;241m1\u001b[39m,\n\u001b[1;32m    199\u001b[0m         logging_step: \u001b[38;5;28mint\u001b[39m \u001b[38;5;241m=\u001b[39m \u001b[38;5;241m1\u001b[39m) \u001b[38;5;241m-\u001b[39m\u001b[38;5;241m>\u001b[39m \u001b[38;5;28;01mNone\u001b[39;00m:\n\u001b[1;32m    201\u001b[0m     \u001b[38;5;28mself\u001b[39m\u001b[38;5;241m.\u001b[39mmodel\u001b[38;5;241m.\u001b[39m_training \u001b[38;5;241m=\u001b[39m \u001b[38;5;28;01mTrue\u001b[39;00m\n\u001b[0;32m--> 203\u001b[0m     \u001b[38;5;28;43msuper\u001b[39;49m\u001b[43m(\u001b[49m\u001b[43m)\u001b[49m\u001b[38;5;241;43m.\u001b[39;49m\u001b[43mfit\u001b[49m\u001b[43m(\u001b[49m\u001b[43mtrain_dataset\u001b[49m\u001b[43m,\u001b[49m\u001b[43m \u001b[49m\u001b[43mval_dataset\u001b[49m\u001b[43m,\u001b[49m\u001b[43m \u001b[49m\u001b[43mevaluation_step\u001b[49m\u001b[43m,\u001b[49m\u001b[43m \u001b[49m\u001b[43mlogging_step\u001b[49m\u001b[43m)\u001b[49m\n\u001b[1;32m    205\u001b[0m     \u001b[38;5;28mself\u001b[39m\u001b[38;5;241m.\u001b[39mmodel\u001b[38;5;241m.\u001b[39m_training \u001b[38;5;241m=\u001b[39m \u001b[38;5;28;01mFalse\u001b[39;00m\n",
            "File \u001b[0;32m~/quantinuum/repositories/lambeq/lambeq/training/trainer.py:374\u001b[0m, in \u001b[0;36mTrainer.fit\u001b[0;34m(self, train_dataset, val_dataset, evaluation_step, logging_step)\u001b[0m\n\u001b[1;32m    372\u001b[0m step \u001b[38;5;241m+\u001b[39m\u001b[38;5;241m=\u001b[39m \u001b[38;5;241m1\u001b[39m\n\u001b[1;32m    373\u001b[0m x, y_label \u001b[38;5;241m=\u001b[39m batch\n\u001b[0;32m--> 374\u001b[0m y_hat, loss \u001b[38;5;241m=\u001b[39m \u001b[38;5;28;43mself\u001b[39;49m\u001b[38;5;241;43m.\u001b[39;49m\u001b[43mtraining_step\u001b[49m\u001b[43m(\u001b[49m\u001b[43mbatch\u001b[49m\u001b[43m)\u001b[49m\n\u001b[1;32m    375\u001b[0m \u001b[38;5;28;01mif\u001b[39;00m (\u001b[38;5;28mself\u001b[39m\u001b[38;5;241m.\u001b[39mevaluate_on_train\n\u001b[1;32m    376\u001b[0m         \u001b[38;5;129;01mand\u001b[39;00m \u001b[38;5;28mself\u001b[39m\u001b[38;5;241m.\u001b[39mevaluate_functions \u001b[38;5;129;01mis\u001b[39;00m \u001b[38;5;129;01mnot\u001b[39;00m \u001b[38;5;28;01mNone\u001b[39;00m):\n\u001b[1;32m    377\u001b[0m     \u001b[38;5;28;01mfor\u001b[39;00m metr, func \u001b[38;5;129;01min\u001b[39;00m \u001b[38;5;28mself\u001b[39m\u001b[38;5;241m.\u001b[39mevaluate_functions\u001b[38;5;241m.\u001b[39mitems():\n",
            "File \u001b[0;32m~/quantinuum/repositories/lambeq/lambeq/training/quantum_trainer.py:167\u001b[0m, in \u001b[0;36mQuantumTrainer.training_step\u001b[0;34m(self, batch)\u001b[0m\n\u001b[1;32m    153\u001b[0m \u001b[38;5;250m\u001b[39m\u001b[38;5;124;03m\"\"\"Perform a training step.\u001b[39;00m\n\u001b[1;32m    154\u001b[0m \n\u001b[1;32m    155\u001b[0m \u001b[38;5;124;03mParameters\u001b[39;00m\n\u001b[0;32m   (...)\u001b[0m\n\u001b[1;32m    164\u001b[0m \n\u001b[1;32m    165\u001b[0m \u001b[38;5;124;03m\"\"\"\u001b[39;00m\n\u001b[1;32m    166\u001b[0m \u001b[38;5;28mself\u001b[39m\u001b[38;5;241m.\u001b[39mmodel\u001b[38;5;241m.\u001b[39m_clear_predictions()\n\u001b[0;32m--> 167\u001b[0m loss \u001b[38;5;241m=\u001b[39m \u001b[38;5;28;43mself\u001b[39;49m\u001b[38;5;241;43m.\u001b[39;49m\u001b[43moptimizer\u001b[49m\u001b[38;5;241;43m.\u001b[39;49m\u001b[43mbackward\u001b[49m\u001b[43m(\u001b[49m\u001b[43mbatch\u001b[49m\u001b[43m)\u001b[49m\n\u001b[1;32m    168\u001b[0m y_hat \u001b[38;5;241m=\u001b[39m \u001b[38;5;28mself\u001b[39m\u001b[38;5;241m.\u001b[39mmodel\u001b[38;5;241m.\u001b[39m_train_predictions[\u001b[38;5;241m-\u001b[39m\u001b[38;5;241m1\u001b[39m]\n\u001b[1;32m    169\u001b[0m \u001b[38;5;28mself\u001b[39m\u001b[38;5;241m.\u001b[39mtrain_costs\u001b[38;5;241m.\u001b[39mappend(loss)\n",
            "File \u001b[0;32m~/quantinuum/repositories/lambeq/lambeq/training/spsa_optimizer.py:141\u001b[0m, in \u001b[0;36mSPSAOptimizer.backward\u001b[0;34m(self, batch)\u001b[0m\n\u001b[1;32m    139\u001b[0m xminus \u001b[38;5;241m=\u001b[39m \u001b[38;5;28mself\u001b[39m\u001b[38;5;241m.\u001b[39mproject(x \u001b[38;5;241m-\u001b[39m \u001b[38;5;28mself\u001b[39m\u001b[38;5;241m.\u001b[39mck \u001b[38;5;241m*\u001b[39m delta)\n\u001b[1;32m    140\u001b[0m \u001b[38;5;28mself\u001b[39m\u001b[38;5;241m.\u001b[39mmodel\u001b[38;5;241m.\u001b[39mweights \u001b[38;5;241m=\u001b[39m xminus\n\u001b[0;32m--> 141\u001b[0m y1 \u001b[38;5;241m=\u001b[39m \u001b[38;5;28;43mself\u001b[39;49m\u001b[38;5;241;43m.\u001b[39;49m\u001b[43mmodel\u001b[49m\u001b[43m(\u001b[49m\u001b[43mdiagrams\u001b[49m\u001b[43m)\u001b[49m\n\u001b[1;32m    142\u001b[0m loss1 \u001b[38;5;241m=\u001b[39m \u001b[38;5;28mself\u001b[39m\u001b[38;5;241m.\u001b[39mloss_fn(y1, targets)\n\u001b[1;32m    143\u001b[0m \u001b[38;5;28;01mif\u001b[39;00m \u001b[38;5;28mself\u001b[39m\u001b[38;5;241m.\u001b[39mbounds \u001b[38;5;129;01mis\u001b[39;00m \u001b[38;5;28;01mNone\u001b[39;00m:\n",
            "File \u001b[0;32m~/quantinuum/repositories/lambeq/lambeq/training/quantum_model.py:144\u001b[0m, in \u001b[0;36mQuantumModel.__call__\u001b[0;34m(self, *args, **kwargs)\u001b[0m\n\u001b[1;32m    143\u001b[0m \u001b[38;5;28;01mdef\u001b[39;00m \u001b[38;5;21m__call__\u001b[39m(\u001b[38;5;28mself\u001b[39m, \u001b[38;5;241m*\u001b[39margs: Any, \u001b[38;5;241m*\u001b[39m\u001b[38;5;241m*\u001b[39mkwargs: Any) \u001b[38;5;241m-\u001b[39m\u001b[38;5;241m>\u001b[39m Any:\n\u001b[0;32m--> 144\u001b[0m     out \u001b[38;5;241m=\u001b[39m \u001b[38;5;28;43mself\u001b[39;49m\u001b[38;5;241;43m.\u001b[39;49m\u001b[43mforward\u001b[49m\u001b[43m(\u001b[49m\u001b[38;5;241;43m*\u001b[39;49m\u001b[43margs\u001b[49m\u001b[43m,\u001b[49m\u001b[43m \u001b[49m\u001b[38;5;241;43m*\u001b[39;49m\u001b[38;5;241;43m*\u001b[39;49m\u001b[43mkwargs\u001b[49m\u001b[43m)\u001b[49m\n\u001b[1;32m    145\u001b[0m     \u001b[38;5;28;01mif\u001b[39;00m \u001b[38;5;28mself\u001b[39m\u001b[38;5;241m.\u001b[39m_training:\n\u001b[1;32m    146\u001b[0m         \u001b[38;5;28mself\u001b[39m\u001b[38;5;241m.\u001b[39m_log_prediction(out)\n",
            "File \u001b[0;32m~/quantinuum/repositories/lambeq/lambeq/training/numpy_model.py:189\u001b[0m, in \u001b[0;36mNumpyModel.forward\u001b[0;34m(self, x)\u001b[0m\n\u001b[1;32m    171\u001b[0m \u001b[38;5;28;01mdef\u001b[39;00m \u001b[38;5;21mforward\u001b[39m(\u001b[38;5;28mself\u001b[39m, x: \u001b[38;5;28mlist\u001b[39m[Diagram]) \u001b[38;5;241m-\u001b[39m\u001b[38;5;241m>\u001b[39m Any:\n\u001b[1;32m    172\u001b[0m \u001b[38;5;250m    \u001b[39m\u001b[38;5;124;03m\"\"\"Perform default forward pass of a lambeq model.\u001b[39;00m\n\u001b[1;32m    173\u001b[0m \n\u001b[1;32m    174\u001b[0m \u001b[38;5;124;03m    In case of a different datapoint (e.g. list of tuple) or\u001b[39;00m\n\u001b[0;32m   (...)\u001b[0m\n\u001b[1;32m    187\u001b[0m \n\u001b[1;32m    188\u001b[0m \u001b[38;5;124;03m    \"\"\"\u001b[39;00m\n\u001b[0;32m--> 189\u001b[0m     \u001b[38;5;28;01mreturn\u001b[39;00m \u001b[38;5;28;43mself\u001b[39;49m\u001b[38;5;241;43m.\u001b[39;49m\u001b[43mget_diagram_output\u001b[49m\u001b[43m(\u001b[49m\u001b[43mx\u001b[49m\u001b[43m)\u001b[49m\n",
            "File \u001b[0;32m~/quantinuum/repositories/lambeq/lambeq/training/numpy_model.py:155\u001b[0m, in \u001b[0;36mNumpyModel.get_diagram_output\u001b[0;34m(self, diagrams)\u001b[0m\n\u001b[1;32m    152\u001b[0m     \u001b[38;5;28;01mfrom\u001b[39;00m \u001b[38;5;21;01mjax\u001b[39;00m \u001b[38;5;28;01mimport\u001b[39;00m numpy \u001b[38;5;28;01mas\u001b[39;00m jnp\n\u001b[1;32m    154\u001b[0m     lambdified_diagrams \u001b[38;5;241m=\u001b[39m [\u001b[38;5;28mself\u001b[39m\u001b[38;5;241m.\u001b[39m_get_lambda(d) \u001b[38;5;28;01mfor\u001b[39;00m d \u001b[38;5;129;01min\u001b[39;00m diagrams]\n\u001b[0;32m--> 155\u001b[0m     res: jnp\u001b[38;5;241m.\u001b[39mndarray \u001b[38;5;241m=\u001b[39m jnp\u001b[38;5;241m.\u001b[39marray([diag_f(\u001b[38;5;28mself\u001b[39m\u001b[38;5;241m.\u001b[39mweights)\n\u001b[1;32m    156\u001b[0m                                   \u001b[38;5;28;01mfor\u001b[39;00m diag_f \u001b[38;5;129;01min\u001b[39;00m lambdified_diagrams])\n\u001b[1;32m    158\u001b[0m     \u001b[38;5;28;01mreturn\u001b[39;00m res\n\u001b[1;32m    160\u001b[0m diagrams \u001b[38;5;241m=\u001b[39m \u001b[38;5;28mself\u001b[39m\u001b[38;5;241m.\u001b[39m_fast_subs(diagrams, \u001b[38;5;28mself\u001b[39m\u001b[38;5;241m.\u001b[39mweights)\n",
            "File \u001b[0;32m~/quantinuum/repositories/lambeq/lambeq/training/numpy_model.py:155\u001b[0m, in \u001b[0;36m<listcomp>\u001b[0;34m(.0)\u001b[0m\n\u001b[1;32m    152\u001b[0m     \u001b[38;5;28;01mfrom\u001b[39;00m \u001b[38;5;21;01mjax\u001b[39;00m \u001b[38;5;28;01mimport\u001b[39;00m numpy \u001b[38;5;28;01mas\u001b[39;00m jnp\n\u001b[1;32m    154\u001b[0m     lambdified_diagrams \u001b[38;5;241m=\u001b[39m [\u001b[38;5;28mself\u001b[39m\u001b[38;5;241m.\u001b[39m_get_lambda(d) \u001b[38;5;28;01mfor\u001b[39;00m d \u001b[38;5;129;01min\u001b[39;00m diagrams]\n\u001b[0;32m--> 155\u001b[0m     res: jnp\u001b[38;5;241m.\u001b[39mndarray \u001b[38;5;241m=\u001b[39m jnp\u001b[38;5;241m.\u001b[39marray([\u001b[43mdiag_f\u001b[49m\u001b[43m(\u001b[49m\u001b[38;5;28;43mself\u001b[39;49m\u001b[38;5;241;43m.\u001b[39;49m\u001b[43mweights\u001b[49m\u001b[43m)\u001b[49m\n\u001b[1;32m    156\u001b[0m                                   \u001b[38;5;28;01mfor\u001b[39;00m diag_f \u001b[38;5;129;01min\u001b[39;00m lambdified_diagrams])\n\u001b[1;32m    158\u001b[0m     \u001b[38;5;28;01mreturn\u001b[39;00m res\n\u001b[1;32m    160\u001b[0m diagrams \u001b[38;5;241m=\u001b[39m \u001b[38;5;28mself\u001b[39m\u001b[38;5;241m.\u001b[39m_fast_subs(diagrams, \u001b[38;5;28mself\u001b[39m\u001b[38;5;241m.\u001b[39mweights)\n",
            "\u001b[0;31mKeyboardInterrupt\u001b[0m: "
          ]
        }
      ],
      "source": [
        "import tensorflow as tf\n",
        "compr_results = {}\n",
        "\n",
        "tf_seeds = [0, 1, 2]\n",
        "\n",
        "for tf_seed in tf_seeds:\n",
        "    tf.random.set_seed(tf_seed)\n",
        "    this_seed_results = []\n",
        "    for nl in [3,2,1]:\n",
        "        this_seed_results.append(run_experiment(nl, tf_seed))\n",
        "    compr_results[tf_seed] = this_seed_results"
      ]
    },
    {
      "cell_type": "code",
      "execution_count": null,
      "id": "8fb6e2c0",
      "metadata": {
        "id": "8fb6e2c0"
      },
      "outputs": [],
      "source": [
        "import json\n",
        "\n",
        "bkup = compr_results\n",
        "\n",
        "with open('./results/MSR_OOV_S15.json', 'w') as f:\n",
        "    json.dump(bkup, f)"
      ]
    }
  ],
  "metadata": {
    "kernelspec": {
      "display_name": "Python 3 (ipykernel)",
      "language": "python",
      "name": "python3"
    },
    "language_info": {
      "codemirror_mode": {
        "name": "ipython",
        "version": 3
      },
      "file_extension": ".py",
      "mimetype": "text/x-python",
      "name": "python",
      "nbconvert_exporter": "python",
      "pygments_lexer": "ipython3",
      "version": "3.10.4"
    },
    "colab": {
      "provenance": [],
      "include_colab_link": true
    }
  },
  "nbformat": 4,
  "nbformat_minor": 5
}